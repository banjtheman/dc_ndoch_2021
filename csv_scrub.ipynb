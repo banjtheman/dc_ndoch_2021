{
 "cells": [
  {
   "cell_type": "code",
   "execution_count": 254,
   "source": [
    "import pandas as pd\n",
    "import re\n",
    "from itertools import chain"
   ],
   "outputs": [],
   "metadata": {}
  },
  {
   "cell_type": "code",
   "execution_count": 256,
   "source": [
    "header_list = [\"id\", \"conversion_id\", \"create_at\", \"date\", \"time\", \"timezone\", \"user_id\", \"username\", \"name\", \"place\", \"tweet\", \"language\", \"mentions\", \"urls\", \"photos\", \"replies_count\", \"retweets_count\", \"likes_count\", \"hashtags\", \"cashtags\", \"link\", \"retweet\", \"quote_url\", \"video\", \"thumbnail\", \"near\", \"geo\", \"source\", \"user_rt_id\", \"user_rt\", \"retweet_id\", \"reply_to\", \"retweet_date\", \"translate\", \"trans_src\", \"trans_dest\"]"
   ],
   "outputs": [],
   "metadata": {}
  },
  {
   "cell_type": "code",
   "execution_count": 257,
   "source": [
    "ems_df = pd.read_csv(\"DC_Fire_EMS_Tweets.csv\", names=header_list)"
   ],
   "outputs": [],
   "metadata": {}
  },
  {
   "cell_type": "code",
   "execution_count": 258,
   "source": [
    "output = ems_df.head()"
   ],
   "outputs": [],
   "metadata": {}
  },
  {
   "cell_type": "code",
   "execution_count": 259,
   "source": [
    "ems_df.drop(\"id\", inplace=True, axis=1)"
   ],
   "outputs": [],
   "metadata": {}
  },
  {
   "cell_type": "code",
   "execution_count": 345,
   "source": [
    "# got \"^[a-zA-Z]{3}\\s+\\d{1,2}\" from: https://stackoverflow.com/questions/30490087/python-regex-match-month-date-time\n",
    "# got \"+(?:st|[nr]d|th)\" from: https://stackoverflow.com/questions/46542214/how-to-locate-xx-st-nd-rd-th-using-regex-python\n",
    "tweets = ems_df[\"tweet\"]\n",
    "ems_df[\"date\"] = \"\"\n",
    "ems_df[\"total_calls\"] = \"\"\n",
    "ems_df[\"crit_calls\"] = \"\"\n",
    "ems_df[\"non_crit_calls\"] = \"\"\n",
    "ems_df[\"fire_calls\"] = \"\"\n",
    "ems_df[\"source\"] = \"\"\n",
    "for tweet in tweets:\n",
    "    search_reg = \"(Jan(?:uary)?|Feb(?:ruary)?|Mar(?:ch)?|Apr(?:il)?|May|Jun(?:e)?|Jul(?:y)?|Aug(?:ust)?|Sep(?:tember)?|Oct(?:ober)?|Nov(?:ember)?|Dec(?:ember)?)\\s+(\\d{1,2})|(responded to )(\\d+)|(\\d+)( critical)|(\\d+)( non-critical| non[ -]critical)|(\\d+)( fire related)|(https\\:\\/\\/t\\.co\\/[A-Za-z0-9]{10})\"\n",
    "    parsed_tweet = re.findall('%s' % search_reg, tweet)\n",
    "    if parsed_tweet and len(parsed_tweet) > 1:\n",
    "        unwrapped = list(sum(parsed_tweet, ()))\n",
    "        joined = \" \".join(unwrapped).split()\n",
    "        date = joined[3]+\"-\"+joined[4]+\"-\"+\"2021\"\n",
    "        print(joined)\n",
    "        ems_df[\"date\"] = date\n",
    "        ems_df[\"total_calls\"] = joined[2]\n",
    "        ems_df[\"crit_calls\"] = joined[5]\n",
    "        ems_df[\"non_crit_calls\"] = joined[7]\n",
    "        ems_df[\"fire_calls\"] = joined[9]\n",
    "        ems_df[\"source\"] = joined[12]\n",
    "        "
   ],
   "outputs": [
    {
     "output_type": "stream",
     "name": "stdout",
     "text": [
      "['responded', 'to', '568', 'September', '20', '179', 'critical', '287', 'non-critical', '102', 'fire', 'related', 'https://t.co/41LbYPrlqk']\n",
      "['responded', 'to', '620', 'September', '19', '178', 'critical', '311', 'non-critical', '131', 'fire', 'related', 'https://t.co/KVlQ20aEtE']\n",
      "['responded', 'to', '647', 'September', '18', '176', 'critical', '365', 'non', 'critical', '106', 'fire', 'related', 'https://t.co/Ih9rEHxPXp']\n",
      "['responded', 'to', '557', 'September', '17', '156', 'critical', '305', 'non-critical', '96', 'fire', 'related', 'https://t.co/UI6XdzDnLO']\n",
      "['responded', 'to', '611', 'September', '16', '179', 'critical', '313', 'non-critical', '119', 'fire', 'related', 'https://t.co/b8DBnb4Lm2']\n",
      "['responded', 'to', '628', 'September', '15', '179', 'critical', '317', 'non-critical', '132', 'fire', 'related', 'https://t.co/wcQifVIjcX']\n",
      "['responded', 'to', '625', 'September', '13', '186', 'critical', '324', 'non-critical', '115', 'fire', 'related', 'https://t.co/z8OYT42jVr']\n",
      "['responded', 'to', '560', 'September', '12', '193', 'critical', '269', 'non-critical', '98', 'fire', 'related', 'https://t.co/FhujgB5d0o']\n",
      "['September', '11', 'responded', 'to', '587', '179', 'critical', '308', 'non-critical', '100', 'fire', 'related', 'https://t.co/FPHSzqtMWx']\n",
      "['responded', 'to', '630', 'September', '10', '198', 'critical', '302', 'non-critical', '130', 'fire', 'related', 'https://t.co/786TfgkdYv']\n",
      "['responded', 'to', '588', 'September', '8', '180', 'critical', '297', 'non-critical', '111', 'fire', 'related', 'https://t.co/sESLKcSDxR']\n",
      "['responded', 'to', '592', 'September', '7', '166', 'critical', '289', 'non-critical', '137', 'fire', 'related', 'https://t.co/VFyZoRMmpt']\n",
      "['responded', 'to', '597', 'September', '6', '184', 'critical', '296', 'non-critical', '117', 'fire', 'related', 'https://t.co/9MKHgdaAN4']\n",
      "['responded', 'to', '574', 'September', '5', '170', 'critical', '300', 'non-critical', '104', 'fire', 'related', 'https://t.co/O01P2WTSS4']\n",
      "['responded', 'to', '608', 'September', '4', '158', 'critical', '333', 'non-critical', '117', 'fire', 'related', 'https://t.co/MPzvg0fQrn']\n",
      "['responded', 'to', '627', 'September', '3', '194', 'critical', '322', 'non-critical', '111', 'fire', 'related', 'https://t.co/n7cmS3sekh']\n",
      "['responded', 'to', '587', 'September', '2', '188', 'critical', '289', 'non-critical', '110', 'fire', 'related', 'https://t.co/3g7LS8JFkg']\n"
     ]
    }
   ],
   "metadata": {}
  },
  {
   "cell_type": "code",
   "execution_count": 334,
   "source": [
    "print(ems_df[[\"date\",\"total_calls\",\"crit_calls\",\"non_crit_calls\",\"fire_calls\",\"source\"]])"
   ],
   "outputs": [
    {
     "output_type": "stream",
     "name": "stdout",
     "text": [
      "                date total_calls crit_calls non_crit_calls fire_calls source\n",
      "0   September-2-2021         587        188            289        110       \n",
      "1   September-2-2021         587        188            289        110       \n",
      "2   September-2-2021         587        188            289        110       \n",
      "3   September-2-2021         587        188            289        110       \n",
      "4   September-2-2021         587        188            289        110       \n",
      "5   September-2-2021         587        188            289        110       \n",
      "6   September-2-2021         587        188            289        110       \n",
      "7   September-2-2021         587        188            289        110       \n",
      "8   September-2-2021         587        188            289        110       \n",
      "9   September-2-2021         587        188            289        110       \n",
      "10  September-2-2021         587        188            289        110       \n",
      "11  September-2-2021         587        188            289        110       \n",
      "12  September-2-2021         587        188            289        110       \n",
      "13  September-2-2021         587        188            289        110       \n",
      "14  September-2-2021         587        188            289        110       \n",
      "15  September-2-2021         587        188            289        110       \n",
      "16  September-2-2021         587        188            289        110       \n",
      "17  September-2-2021         587        188            289        110       \n",
      "18  September-2-2021         587        188            289        110       \n",
      "19  September-2-2021         587        188            289        110       \n"
     ]
    }
   ],
   "metadata": {}
  },
  {
   "cell_type": "code",
   "execution_count": null,
   "source": [],
   "outputs": [],
   "metadata": {}
  }
 ],
 "metadata": {
  "kernelspec": {
   "display_name": "Python 3",
   "language": "python",
   "name": "python3"
  },
  "language_info": {
   "codemirror_mode": {
    "name": "ipython",
    "version": 3
   },
   "file_extension": ".py",
   "mimetype": "text/x-python",
   "name": "python",
   "nbconvert_exporter": "python",
   "pygments_lexer": "ipython3",
   "version": "3.8.8"
  }
 },
 "nbformat": 4,
 "nbformat_minor": 5
}