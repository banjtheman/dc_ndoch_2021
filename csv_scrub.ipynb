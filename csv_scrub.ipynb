{
 "cells": [
  {
   "cell_type": "code",
   "execution_count": 70,
   "id": "5d50795a",
   "metadata": {},
   "outputs": [],
   "source": [
    "import pandas as pd\n",
    "import re"
   ]
  },
  {
   "cell_type": "code",
   "execution_count": 71,
   "id": "267b3dac",
   "metadata": {},
   "outputs": [],
   "source": [
    "header_list = [\"id\", \"conversion_id\", \"create_at\", \"date\", \"time\", \"timezone\", \"user_id\", \"username\", \"name\", \"place\", \"tweet\", \"language\", \"mentions\", \"urls\", \"photos\", \"replies_count\", \"retweets_count\", \"likes_count\", \"hashtags\", \"cashtags\", \"link\", \"retweet\", \"quote_url\", \"video\", \"thumbnail\", \"near\", \"geo\", \"source\", \"user_rt_id\", \"user_rt\", \"retweet_id\", \"reply_to\", \"retweet_date\", \"translate\", \"trans_src\", \"trans_dest\"]"
   ]
  },
  {
   "cell_type": "code",
   "execution_count": 72,
   "id": "d764900a",
   "metadata": {},
   "outputs": [],
   "source": [
    "ems_df = pd.read_csv(\"DC_Fire_EMS_Tweets.csv\", names=header_list)"
   ]
  },
  {
   "cell_type": "code",
   "execution_count": 73,
   "id": "6713e4de",
   "metadata": {},
   "outputs": [],
   "source": [
    "output = ems_df.head()"
   ]
  },
  {
   "cell_type": "code",
   "execution_count": 74,
   "id": "2d26691a",
   "metadata": {},
   "outputs": [],
   "source": [
    "ems_df.drop(\"id\", inplace=True, axis=1)"
   ]
  },
  {
   "cell_type": "code",
   "execution_count": 143,
   "id": "01300f0e",
   "metadata": {},
   "outputs": [
    {
     "name": "stdout",
     "output_type": "stream",
     "text": [
      "responded to 557\n",
      "responded to 611\n",
      "responded to 628\n"
     ]
    },
    {
     "ename": "TypeError",
     "evalue": "'NoneType' object is not subscriptable",
     "output_type": "error",
     "traceback": [
      "\u001b[0;31m---------------------------------------------------------------------------\u001b[0m",
      "\u001b[0;31mTypeError\u001b[0m                                 Traceback (most recent call last)",
      "\u001b[0;32m<ipython-input-143-3481527e097c>\u001b[0m in \u001b[0;36m<module>\u001b[0;34m\u001b[0m\n\u001b[1;32m      9\u001b[0m \u001b[0;31m#     date = re.search('%s' % date_reg, tweet)\u001b[0m\u001b[0;34m\u001b[0m\u001b[0;34m\u001b[0m\u001b[0;34m\u001b[0m\u001b[0m\n\u001b[1;32m     10\u001b[0m \u001b[0;31m#     total_calls = re.search(\"(responded to )(\\d+)\", tweet)\u001b[0m\u001b[0;34m\u001b[0m\u001b[0;34m\u001b[0m\u001b[0;34m\u001b[0m\u001b[0m\n\u001b[0;32m---> 11\u001b[0;31m     \u001b[0mprint\u001b[0m\u001b[0;34m(\u001b[0m\u001b[0manother\u001b[0m\u001b[0;34m[\u001b[0m\u001b[0;36m0\u001b[0m\u001b[0;34m]\u001b[0m\u001b[0;34m)\u001b[0m\u001b[0;34m\u001b[0m\u001b[0;34m\u001b[0m\u001b[0m\n\u001b[0m\u001b[1;32m     12\u001b[0m \u001b[0;34m\u001b[0m\u001b[0m\n\u001b[1;32m     13\u001b[0m \u001b[0;31m#     if total_calls:\u001b[0m\u001b[0;34m\u001b[0m\u001b[0;34m\u001b[0m\u001b[0;34m\u001b[0m\u001b[0m\n",
      "\u001b[0;31mTypeError\u001b[0m: 'NoneType' object is not subscriptable"
     ]
    }
   ],
   "source": [
    "# got \"^[a-zA-Z]{3}\\s+\\d{1,2}\" from: https://stackoverflow.com/questions/30490087/python-regex-match-month-date-time\n",
    "# got \"+(?:st|[nr]d|th)\" from: https://stackoverflow.com/questions/46542214/how-to-locate-xx-st-nd-rd-th-using-regex-python\n",
    "tweets = ems_df[\"tweet\"]\n",
    "ems_df[\"total_calls\"] = \"\"\n",
    "for tweet in tweets:\n",
    "    date_reg = \"(Jan(?:uary)?|Feb(?:ruary)?|Mar(?:ch)?|Apr(?:il)?|May|Jun(?:e)?|Jul(?:y)?|Aug(?:ust)?|Sep(?:tember)?|Oct(?:ober)?|Nov(?:ember)?|Dec(?:ember)?)\\s+(\\d{1,2})|(responded to )(\\d+)\"\n",
    "#     total_calls = re.search('responded to (\\d+):', tweet)\n",
    "    another = re.findall('%s' % date_reg, tweet)\n",
    "#     date = re.search('%s' % date_reg, tweet)\n",
    "#     total_calls = re.search(\"(responded to )(\\d+)\", tweet)\n",
    "    print(another[0])\n",
    "    \n",
    "#     if total_calls:\n",
    "#         print(tweet,\": \",total_calls.group(1))\n",
    "#     ems_df[\"total_calls\"] = total_calls\n",
    "#     print(ems_df[\"total_calls\"])"
   ]
  },
  {
   "cell_type": "code",
   "execution_count": null,
   "id": "847b74f2",
   "metadata": {},
   "outputs": [],
   "source": []
  }
 ],
 "metadata": {
  "kernelspec": {
   "display_name": "Python 3",
   "language": "python",
   "name": "python3"
  },
  "language_info": {
   "codemirror_mode": {
    "name": "ipython",
    "version": 3
   },
   "file_extension": ".py",
   "mimetype": "text/x-python",
   "name": "python",
   "nbconvert_exporter": "python",
   "pygments_lexer": "ipython3",
   "version": "3.8.8"
  }
 },
 "nbformat": 4,
 "nbformat_minor": 5
}
