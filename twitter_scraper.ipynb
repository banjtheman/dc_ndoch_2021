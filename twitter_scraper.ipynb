{
 "cells": [
  {
   "cell_type": "code",
   "execution_count": 1,
   "id": "db76e1e7",
   "metadata": {},
   "outputs": [],
   "source": [
    "import twint\n",
    "import nest_asyncio\n",
    "nest_asyncio.apply()"
   ]
  },
  {
   "cell_type": "code",
   "execution_count": 3,
   "id": "f3cebe5a",
   "metadata": {},
   "outputs": [
    {
     "name": "stdout",
     "output_type": "stream",
     "text": [
      "1439267720822935553 2021-09-18 12:38:59 -0400 <dcfireems> #DCsBravest responded to 557 calls on Friday, September 17th. There were 156 critical and 305 non-critical EMS dispatches, and 96 fire related incidents and other types of emergencies.  https://t.co/UI6XdzDnLO\n",
      "1438843139620474898 2021-09-17 08:31:51 -0400 <dcfireems> #DCsBravest responded to 611 calls on Thursday, September 16th. There were 179 critical and 313 non-critical EMS dispatches, and 119 fire related incidents and other types of emergencies, including 1 working structure fire and 1 two alarm structure fire.  https://t.co/b8DBnb4Lm2\n",
      "1438628780952760324 2021-09-16 18:20:04 -0400 <dcfireems> #DCsBravest responded to 628 calls on Wednesday, September 15th. There were 179 critical and 317 non-critical EMS dispatches, and 132 fire related incidents and other types of emergencies, including 1 working structure fire.  https://t.co/wcQifVIjcX\n",
      "1438191556327002114 2021-09-15 13:22:41 -0400 <dcfireems> #DCsBravest Engine Co. 3 on a recent call to the US Capitol. Whomever you are or wherever you may be in our great city, DC Fire and EMS will be there for you.  https://t.co/aD8tm2Ky7s\n",
      "1437790736297119749 2021-09-14 10:49:59 -0400 <dcfireems> #DCsBravest responded to 625 calls on Monday, September 13th. There were 186 critical and 324 non-critical EMS dispatches, and 115 fire related incidents and other types of emergencies, including 1 working structure fire.  https://t.co/z8OYT42jVr\n",
      "1437468711162634245 2021-09-13 13:30:22 -0400 <dcfireems> #DCsBravest responded to 560 calls on Sunday, September 12th. There were 193 critical and 269 non-critical EMS dispatches, and 98 fire related incidents and other types of emergencies, including 1 working structure fire.  https://t.co/FhujgB5d0o\n",
      "1437128686185160705 2021-09-12 14:59:14 -0400 <dcfireems> On Saturday, September 11th #DCsBravest responded to 587 calls on the 20th Anniversary of 9/11. There were 179 critical and 308 non-critical EMS calls, and 100 fire related incidents and other types of emergencies. NEVER FORGET! (Photo by @DCFIREBYE)  https://t.co/FPHSzqtMWx\n",
      "1436693840958795779 2021-09-11 10:11:18 -0400 <dcfireems> Even as we remember the 20th Anniversary of 9/11, #DCsBravest continue to answer the call. 24/7 365 days a year.  https://t.co/FmECyUKZHC\n",
      "1436658710370299904 2021-09-11 07:51:43 -0400 <dcfireems> #DCsBravest responded to 630 calls on Friday,September 10th. There were 198 critical and 302 non-critical EMS dispatches, and 130 fire related incidents and other types of emergencies, including 1 two alarm structure fire.  https://t.co/786TfgkdYv\n",
      "[!] No more data! Scraping will stop now.\n",
      "found 0 deleted tweets in this search.\n",
      "[+] Finished: Successfully collected 9 Tweets from @dcfireems.\n"
     ]
    }
   ],
   "source": [
    "# Configure\n",
    "c = twint.Config()\n",
    "c.Username = \"dcfireems\"\n",
    "# TODO: refine search query to call only relevent tweets from dcfireems\n",
    "# Test search.\n",
    "c.Search = \"call\"\n",
    "c.Store_csv = True\n",
    "c.Output = \"./DC_Fire_EMS_Tweets.csv\"\n",
    "c.Count = True\n",
    "\n",
    "# Run\n",
    "twint.run.Search(c)"
   ]
  },
  {
   "cell_type": "code",
   "execution_count": null,
   "id": "85f58959",
   "metadata": {},
   "outputs": [],
   "source": []
  }
 ],
 "metadata": {
  "kernelspec": {
   "display_name": "Python 3",
   "language": "python",
   "name": "python3"
  },
  "language_info": {
   "codemirror_mode": {
    "name": "ipython",
    "version": 3
   },
   "file_extension": ".py",
   "mimetype": "text/x-python",
   "name": "python",
   "nbconvert_exporter": "python",
   "pygments_lexer": "ipython3",
   "version": "3.8.8"
  }
 },
 "nbformat": 4,
 "nbformat_minor": 5
}
