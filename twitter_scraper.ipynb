{
 "cells": [
  {
   "cell_type": "code",
   "execution_count": 1,
   "id": "e7d0cc9a",
   "metadata": {},
   "outputs": [],
   "source": [
    "# open source twitter scraper\n",
    "import twint\n",
    "import pandas\n",
    "# resolved an event loop error: https://stackoverflow.com/questions/67585628/runtimeerror-in-twint-this-event-loop-is-already-running\n",
    "import nest_asyncio\n",
    "nest_asyncio.apply()"
   ]
  },
  {
   "cell_type": "code",
   "execution_count": 2,
   "id": "8d9f9f55",
   "metadata": {
    "scrolled": true
   },
   "outputs": [
    {
     "name": "stdout",
     "output_type": "stream",
     "text": [
      "1440302634036957185 2021-09-21 09:11:22 -0400 <dcfireems> #DCsBravest responded to 568 calls on Monday, September 20th. There were 179 critical and 287 non-critical EMS dispatches, and 102 fire related incidents and other types of emergencies.  https://t.co/41LbYPrlqk\n",
      "1439934940918042631 2021-09-20 08:50:17 -0400 <dcfireems> #DCsBravest responded to 620 calls on Sunday, September 19th. There were 178 critical and 311 non-critical EMS dispatches, and 131 fire related incidents and other types of emergencies.  https://t.co/KVlQ20aEtE\n",
      "1439689443624071168 2021-09-19 16:34:46 -0400 <dcfireems> #DCsBravest responded to 647 calls on Saturday, September 18th. There were 176 critical and 365 non critical EMS dispatches, and 106 fire related incidents and other types of emergencies.  https://t.co/Ih9rEHxPXp\n",
      "1439267720822935553 2021-09-18 12:38:59 -0400 <dcfireems> #DCsBravest responded to 557 calls on Friday, September 17th. There were 156 critical and 305 non-critical EMS dispatches, and 96 fire related incidents and other types of emergencies.  https://t.co/UI6XdzDnLO\n",
      "1438843139620474898 2021-09-17 08:31:51 -0400 <dcfireems> #DCsBravest responded to 611 calls on Thursday, September 16th. There were 179 critical and 313 non-critical EMS dispatches, and 119 fire related incidents and other types of emergencies, including 1 working structure fire and 1 two alarm structure fire.  https://t.co/b8DBnb4Lm2\n",
      "1438628780952760324 2021-09-16 18:20:04 -0400 <dcfireems> #DCsBravest responded to 628 calls on Wednesday, September 15th. There were 179 critical and 317 non-critical EMS dispatches, and 132 fire related incidents and other types of emergencies, including 1 working structure fire.  https://t.co/wcQifVIjcX\n",
      "1438191556327002114 2021-09-15 13:22:41 -0400 <dcfireems> #DCsBravest Engine Co. 3 on a recent call to the US Capitol. Whomever you are or wherever you may be in our great city, DC Fire and EMS will be there for you.  https://t.co/aD8tm2Ky7s\n",
      "1437790736297119749 2021-09-14 10:49:59 -0400 <dcfireems> #DCsBravest responded to 625 calls on Monday, September 13th. There were 186 critical and 324 non-critical EMS dispatches, and 115 fire related incidents and other types of emergencies, including 1 working structure fire.  https://t.co/z8OYT42jVr\n",
      "1437468711162634245 2021-09-13 13:30:22 -0400 <dcfireems> #DCsBravest responded to 560 calls on Sunday, September 12th. There were 193 critical and 269 non-critical EMS dispatches, and 98 fire related incidents and other types of emergencies, including 1 working structure fire.  https://t.co/FhujgB5d0o\n",
      "1437128686185160705 2021-09-12 14:59:14 -0400 <dcfireems> On Saturday, September 11th #DCsBravest responded to 587 calls on the 20th Anniversary of 9/11. There were 179 critical and 308 non-critical EMS calls, and 100 fire related incidents and other types of emergencies. NEVER FORGET! (Photo by @DCFIREBYE)  https://t.co/FPHSzqtMWx\n",
      "1436693840958795779 2021-09-11 10:11:18 -0400 <dcfireems> Even as we remember the 20th Anniversary of 9/11, #DCsBravest continue to answer the call. 24/7 365 days a year.  https://t.co/FmECyUKZHC\n",
      "1436658710370299904 2021-09-11 07:51:43 -0400 <dcfireems> #DCsBravest responded to 630 calls on Friday,September 10th. There were 198 critical and 302 non-critical EMS dispatches, and 130 fire related incidents and other types of emergencies, including 1 two alarm structure fire.  https://t.co/786TfgkdYv\n",
      "1436020767528001542 2021-09-09 13:36:45 -0400 <dcfireems> #DCsBravest responded to 588 calls on Wednesday, September 8th. There were 180 critical and 297 non-critical EMS dispatches, and 111 fire related incidents and other types of emergencies.  https://t.co/sESLKcSDxR\n",
      "1435966811586002950 2021-09-09 10:02:21 -0400 <dcfireems> #DCsBravest Fire Prevention personnel &amp; local firefighters going door to door preaching fire safety and checking smoke alarms. This is our monthly All Hands on Fire Prevention targeting a different neighborhood monthly. DC homeowners can call 311 to get a smoke alarm.  https://t.co/KqGlaJmlLM\n",
      "1435605739993767936 2021-09-08 10:07:35 -0400 <dcfireems> #DCsBravest responded to 592 calls on Tuesday, September 7th. There were 166 critical and 289 non-critical EMS dispatches, and 137 fire related incidents and other types of emergencies.  https://t.co/VFyZoRMmpt\n",
      "1435263503011663879 2021-09-07 11:27:39 -0400 <dcfireems> #DCsBravest responded to 597 calls on Monday, September 6th. There were 184 critical and 296 non-critical EMS dispatches, and 117 fire related incidents and other types of emergencies.  https://t.co/9MKHgdaAN4\n",
      "1435059518757642244 2021-09-06 21:57:06 -0400 <dcfireems> #DCsBravest responded to 574 calls on Sunday, September 5th. There were 170 critical and 300 non-critical EMS dispatches, and 104 fire related incidents and other types of emergencies, including 1 working structure fire.  https://t.co/O01P2WTSS4\n",
      "1434553005454602240 2021-09-05 12:24:23 -0400 <dcfireems> #DCsBravest responded to 608 calls on Saturday, September 4th. There were 158 critical and 333 non-critical EMS dispatches, and 117 fire related incidents and other types of emergencies, including a 2 Alarm structure fire and another working structure fire.  https://t.co/MPzvg0fQrn\n",
      "1434326890433679367 2021-09-04 21:25:53 -0400 <dcfireems> #DCsBravest responded to 627 calls on Friday, September 3rd. There were 194 critical and 322 non-critical EMS dispatches, and 111 fire related incidents and other types of emergencies.  https://t.co/n7cmS3sekh\n",
      "1433819732428328973 2021-09-03 11:50:37 -0400 <dcfireems> #DCsBravest responded to 587 calls on Thursday, September 2nd. There were 188 critical and 289 non-critical EMS dispatches, and 110 fire related incidents and other types of emergencies, including 1 working structure fire.  https://t.co/3g7LS8JFkg\n",
      "1433535447402172429 2021-09-02 17:00:59 -0400 <dcfireems> #DCsBravest responded to 531 calls on Wednesday, September 1st. There were 148 critical and 257 non-critical EMS dispatches, and 126 fire related incidents and other types of emergencies.  https://t.co/3wZQedMzh9\n",
      "1433105205621628939 2021-09-01 12:31:21 -0400 <dcfireems> #DCsBravest responded to 537 calls on Tuesday, August 31st. There were 150 critical and 276 non-critical EMS dispatches, and 111 fire related incidents and other types of emergencies.  https://t.co/7OVGLKoyX9\n",
      "1432733710969982985 2021-08-31 11:55:10 -0400 <dcfireems> #DCsBravest responded to 583 calls on Monday, August 30th. There were 160 critical and 314 non-critical EMS dispatches, and 109 fire related incidents and other types of emergencies.  https://t.co/qN7repufk5\n",
      "1432394447162118153 2021-08-30 13:27:03 -0400 <dcfireems> When @Boone_ES on Minnesota Ave SE needed help removing some badly worn flags from their flagpole, #DCsBravest Truck 16 answered the call. We will return to assist once the school has new flags at hand.  https://t.co/AdgRAicUKQ\n",
      "1432356531555737603 2021-08-30 10:56:23 -0400 <dcfireems> #DCsBravest responded to 535 calls on Sunday, August 29th. There were 168 critical and 247 non-critical EMS dispatches, and 120 fire related incidents and other types of emergencies.  https://t.co/HbY3V3hS9S\n",
      "1432167852795207681 2021-08-29 22:26:39 -0400 <dcfireems> #DCsBravest responded to 630 calls on Saturday, August 28th. There were 190 critical and 325 non-critical EMS dispatches, and 115 fire related incidents and other types of emergencies.  https://t.co/ptS04lLYrG\n",
      "1431805878722830339 2021-08-28 22:28:17 -0400 <dcfireems> Earlier today #DCsBravest Engine 33 rolled out the door on a medical response, one of hundreds of calls for assistance that are answered daily throughout the District.  https://t.co/pfwWHGn2lx\n",
      "1431680342155481095 2021-08-28 14:09:27 -0400 <dcfireems> #DCsBravest responded to 660 calls on Friday, August 27th. There were 189 critical and 340 non-critical EMS dispatches, and 131 fire related incidents and other types of emergencies.  https://t.co/i4dfcrzIMs\n",
      "1431342223354994690 2021-08-27 15:45:53 -0400 <dcfireems> #DCsBravest responded to 593 calls on Thursday, August 26th. There were 152 critical and 306 non-critical EMS dispatches, and 135 fire related incidents and other types of emergencies.  https://t.co/8cH2MjH9Qx\n",
      "1431318185576443910 2021-08-27 14:10:22 -0400 <dcfireems> Bystander #HandsonHeartsCPR saves lives. That was the case for Debra. #DCsBravest Engine 16, Medic 1, EMS 6, @OUC_DC call taker Janay Bailey, and her fiancé, Craig Kramer all played a vital role in bringing her back to life. Learn more at  https://t.co/lChDdGoR0C.  https://t.co/CrktOEsiTK\n",
      "1431295562985492482 2021-08-27 12:40:29 -0400 <dcfireems> A reunion of lifesavers after Debra Lapin had a heart attack back in March. Her fiancé Craig Kramer gave CPR with instruction from @OUC_DC call taker Janay Bailey before #DCsBravest from Engine 16, Medic 1, &amp; EMS 6 arrived. Her caregivers were given Cardiac Arrest Save Coins.  https://t.co/gx9CMRq5Ed\n",
      "1430914778118168582 2021-08-26 11:27:22 -0400 <dcfireems> #DCsBravest responded to 575 calls on Wednesday, August 25th. There were 172 critical and 299 non-critical EMS dispatches, and 104 fire related incidents and other types of emergencies.  https://t.co/mtRc9yUZR5\n",
      "1430619528317243393 2021-08-25 15:54:09 -0400 <dcfireems> The numbers are in from @FirehouseNews 2020 National Run Survey. The 4th busiest firehouse nationally was #DCsBravest Eng. 30 on 49th St. NE. The 5 units there had a total of 24,555 responses. Ambulance 6 in Shaw was the 5th busiest ambulance in the country with 5,815 calls.  https://t.co/YB7mV0ekIo\n",
      "1430578321449000967 2021-08-25 13:10:25 -0400 <dcfireems> #DCsBravest responded to 620 calls on Tuesday, August 24th. There were 190 critical and 325 non-critical EMS dispatches, and 105 fire related incidents and other types of emergencies, including 1 working structure fire.  https://t.co/d5XKBTH9Qd\n",
      "1430213514338127873 2021-08-24 13:00:48 -0400 <dcfireems> #DCsBravest firehouses, both inside and out, are a source of pride for our members. EMS Captain Charles Steptoe takes the time between calls for service and administrative duties to spruce up the outside of Engine 4 on Sherman Avenue NW.  https://t.co/UUlplbCy2U\n",
      "1430165156013781005 2021-08-24 09:48:39 -0400 <dcfireems> #DCsBravest responded to 601 calls on Monday, August 23rd. There were 204 critical and 281 non-critical EMS calls, and 116 fire related incidents and other types of emergencies.  https://t.co/Sd9txBYI85\n",
      "1429943150739664907 2021-08-23 19:06:28 -0400 <dcfireems> #DCsBravest responded to 573 calls on Sunday, August 22nd. There were 157 critical and 315 non-critical EMS dispatches, and 101 fire related incidents and other types of emergencies, including 1 working structure fire.  https://t.co/Gm0Lxo5hZI\n",
      "1429551109396475907 2021-08-22 17:08:38 -0400 <dcfireems> #DCsBravest responded to 589 calls on Saturday, August 21st. There were 154 critical and 313 non-critical EMS dispatches, and 122 fire related incidents and other types of emergencies.  https://t.co/jMRixSYOhK\n",
      "1429178066354458626 2021-08-21 16:26:18 -0400 <dcfireems> #DCsBravest Hands on Hearts team out again in the community, teaching hands only CPR at the Back to School Community Resource Fair. Learn more about this life saving method at  https://t.co/lChDdGoR0C. CPR trained? Add @pulsepoint to your mobile app &amp; be alerted to a nearby call.  https://t.co/bC1Ac3yiTK\n",
      "1429175025320464389 2021-08-21 16:14:13 -0400 <dcfireems> #DCsBravest responded to 612 calls on Friday, August 20th. There were 171 critical and 285 non-critical EMS dispatches, and 156 fire related incidents and other types of emergencies.  https://t.co/tx07I92bqi\n"
     ]
    },
    {
     "name": "stdout",
     "output_type": "stream",
     "text": [
      "1428724131252604928 2021-08-20 10:22:31 -0400 <dcfireems> #DCsBravest responded to 523 calls on Thursday, August 19th. There were 162 critical and 270 non-critical EMS dispatches, and 91 fire related incidents and other types of emergencies.  https://t.co/HXx8yVXjdf\n",
      "1428445432578023431 2021-08-19 15:55:05 -0400 <dcfireems> #DCsBravest would like to ensure all our residents have working smoke alarms. DC residents who are homeowners can call 311 to obtain one that we will come and install for you. Read why your life could depend on it.  https://t.co/piJoO8qb9k\n",
      "1428410956078624771 2021-08-19 13:38:05 -0400 <dcfireems> #DCsBravest responded to 521 calls on Wednesday, August 18th. There were 145 critical and 253 non-critical EMS responses, and 123 fire related incidents and other types of emergencies.  https://t.co/FqwfrUKtN7\n",
      "1428015144303476742 2021-08-18 11:25:16 -0400 <dcfireems> #DCsBravest responded to 579 calls on Tuesday, August 17th. There were 148 critical and 316 non-critical EMS dispatches, and 115 fire related incidents and other types of emergencies, including 1 working structure fire.  https://t.co/OqiHw178nr\n",
      "1427729435705364482 2021-08-17 16:29:58 -0400 <dcfireems> #DCsBravest responded to 521 calls on Monday, August 16th. There were 154 critical and 260 non-critical EMS dispatches, and 107 fire related incidents and other types of emergencies.  https://t.co/spVKKjKlZR\n",
      "1427429007159709706 2021-08-16 20:36:10 -0400 <dcfireems> #DCsBravest responded to 577 calls on Sunday, August 15th. There were 165 critical and 287 non-critical EMS dispatches, and 125 fire related incidents and other types of emergencies.  https://t.co/Mp5wlbLYmG\n",
      "1426572469146632197 2021-08-14 11:52:35 -0400 <dcfireems> #DCsBravest responded to 594 calls on Friday, August 13th. There were 192 critical and 286 non-critical EMS dispatches, and 116 fire related incidents and other types of emergencies.  https://t.co/GZRLrtHXR7\n",
      "1426312147081076736 2021-08-13 18:38:10 -0400 <dcfireems> #DCsBravest responded to 589 calls on Thursday, August 12th. There were 191 critical and 287 non-critical EMS Dispatches, and 111 fire related incidents and other types of emergencies.  https://t.co/osP0e1APhK\n",
      "1425896482734055426 2021-08-12 15:06:28 -0400 <dcfireems> #DCsBravest responded to 583 calls on Wednesday, August 11th. There were 183 critical and 268 non-critical EMS dispatches, and 132 fire related incidents and other types of emergencies.  https://t.co/2T3AfaNSU7\n",
      "1425484853961711617 2021-08-11 11:50:48 -0400 <dcfireems> #DCsBravest responded to 570 calls on Tuesday, August 10th. There were were 152 critical and 266 non-critical EMS dispatches, and 142 fire related incidents and other types of emergencies.  https://t.co/bhPKT1rGjG\n",
      "1425225451010772999 2021-08-10 18:40:01 -0400 <dcfireems> #DCsBravest are responding to a number of storm related calls, including power lines and trees down.  https://t.co/yOmip75fU9\n",
      "1425116953878859779 2021-08-10 11:28:53 -0400 <dcfireems> #DCsBravest responded to 573 calls on Monday, August 9th. There were 178 critical and 285 non-critical EMS dispatches, and 110 fire related incidents and other types of emergencies.  https://t.co/TG8jckuP5c\n",
      "1424752727180161032 2021-08-09 11:21:35 -0400 <dcfireems> #DCsBravest responded to 582 calls on Sunday, August 8th. There were 178 critical and 311 non-critical EMS dispatches, and 93 fire related incidents and other types of emergencies.  https://t.co/TECf1eC7bq\n",
      "1424521458521419777 2021-08-08 20:02:36 -0400 <dcfireems> #DCsBravest responded to 539 calls on Saturday, August 7th. There were 169 critical and 275 non-critical EMS dispatches, and 95 fire related incidents and other types of emergencies.  https://t.co/bsTJlERQgG\n",
      "1424050454095409156 2021-08-07 12:51:00 -0400 <dcfireems> #DCsBravest responded to 594 calls on Friday, August 6th. There were 176 critical and 300 non-critical EMS dispatches, and 118 fire related incidents and other types of emergencies.  https://t.co/ZGu1KEKBTa\n",
      "1423709932558376961 2021-08-06 14:17:53 -0400 <dcfireems> #DCsBravest responded to 553 calls on Thursday, August 5th. there were 185 critical and 292 non-critical EMS dispatches, and 76 fire related incidents and other types of emergencies.  https://t.co/8T1Kqeaadg\n",
      "1423281323968405516 2021-08-05 09:54:45 -0400 <dcfireems> #DCsBravest responded to 520 calls on Wednesday, August 4th. There were 142 critical and 265 non-critical EMS dispatches, and 113 fire related incidents and other types of emergencies.  https://t.co/5XStT731nX\n",
      "1422993854689595396 2021-08-04 14:52:27 -0400 <dcfireems> #DCsBravest responded to 565 calls on Tuesday, August 3rd. There were 165 critical and 302 non-critical EMS dispatches, and 98 fire related incidents and other types of emergencies, including 1 working structure fire.  https://t.co/PONCU0EZNp\n",
      "1422963643155681280 2021-08-04 12:52:24 -0400 <dcfireems> Photo taken prior to arrival of #DCsBravest at 21st and P Streets NW in the early morning hours. Quick response and call for additional resources minimized extension to the interior of the structure.  https://t.co/k3GKNZnUZm\n",
      "1422653188516286473 2021-08-03 16:18:46 -0400 <dcfireems> #DCsBravest Engine Company 19 are teaching the kids about fire safety and when to call 911 in @DCPoliceDept 6th District in SE for #NationalNightOut.  Come by for a good time!  https://t.co/9VFBD3wbwh\n",
      "1422633412695928839 2021-08-03 15:00:11 -0400 <dcfireems> When #DCsBravest make the call, you are quick to respond, and make a difference for our citizens when they are having the worse day of their lives. Thank you.\n",
      "1422580836277395462 2021-08-03 11:31:16 -0400 <dcfireems> #DCsBravest responded to 533 calls on Monday, August 2nd. There were 154 critical and 271 non-critical EMS dispatches, and 108 fire related incidents and other types of emergencies.  https://t.co/8P0z6SkaR9\n",
      "1422236703142645764 2021-08-02 12:43:48 -0400 <dcfireems> #DCsBravest responded to 514 calls on Sunday, August 1st. There were 135 critical and 287 non-critical EMS dispatches, and 92 fire related incidents and other types of emergencies.  https://t.co/ZYSpK8MrHV\n",
      "1421509499609915397 2021-07-31 12:34:09 -0400 <dcfireems> #DCsBravest responded to 649 calls on Friday, July 30th. There were 181 critical and 340 non- critical EMS dispatches, and 128 fire related incidents and other types of emergencies.  https://t.co/Vz6KjtjsHO\n",
      "1421169546086465538 2021-07-30 14:03:18 -0400 <dcfireems> #DCsBravest responded to 552 calls on Thursday, July 29th. There were 152 critical and 278 non-critical EMS dispatches, and 122 fire related incidents and other types of emergencies.  https://t.co/fNGE5DddTX\n",
      "1420769379747340288 2021-07-29 11:33:11 -0400 <dcfireems> #DCsBravest responded to 547 calls on Wednesday, July 28th. There were 139 critical and 279 non-critical EMS dispatches, and 129 fire related incidents and other types of emergencies.  https://t.co/6hd9LMdgVI\n",
      "1420383276682854403 2021-07-28 09:58:57 -0400 <dcfireems> #DCsBravest responded to 552 calls on Tuesday, July 27th. There were 165 critical and 283 non-critical EMS dispatches, and 104 fire related incidents and other types of emergencies.  https://t.co/NNn358I0DU\n",
      "1420069144880455694 2021-07-27 13:10:42 -0400 <dcfireems> Numbers are in from the 2020 @FirehouseNews  Run Survey, &amp; the 7th busiest Dept. nationally is #DCsBravest, with 201,130 calls for service. Engine 10 in Trinidad was 4th busiest Eng. with 6,195 responses, &amp; 3rd busiest ladder truck in the U.S was DC Truck 17, with 4,527 calls.  https://t.co/zaPRWl0gKk\n",
      "1420041109892472832 2021-07-27 11:19:18 -0400 <dcfireems> #DCsBravest responded to 629 calls on Monday, July 26th. There were 153 critical and 299 non-critical EMS dispatches, and 177 fire related incidents and other types of emergencies.  https://t.co/2mu3WaNhXg\n",
      "1419819019922812946 2021-07-26 20:36:47 -0400 <dcfireems> #DCsBravest remain extremely busy responding to calls for trees and wires down and other storm related activity.\n",
      "1419698197061066754 2021-07-26 12:36:41 -0400 <dcfireems> #DCsBravest responded to 535 calls on Sunday, July 25th. There were 161 critical and 278 non-critical EMS dispatches, and 96 fire related incidents and other types of emergencies.  https://t.co/zGC0p6ovLA\n",
      "1419390830759055369 2021-07-25 16:15:19 -0400 <dcfireems> #DCsBravest responded to 555 calls on Saturday, July 24th. There were 172 critical and 297 non-critical EMS dispatches, and 86 fire related incidents and other types of emergencies.  https://t.co/383f75d0qf\n",
      "1418959080136364038 2021-07-24 11:39:42 -0400 <dcfireems> #DCsBravest responded to 569 calls on Friday,July 23rd. There were 174 critical and 277 non-critical EMS dispatches, and 118 fire related incidents and other types of emergencies, including 1 working structure fire.  https://t.co/tYcvReRzxa\n",
      "1418664236855828480 2021-07-23 16:08:06 -0400 <dcfireems> #DCsBravest responded to 564 calls on Thursday, July 22nd. There were 171 critical and 253 non-critical EMS dispatches, and 140 fire related incidents and other types of emergencies,  including 1 two alarm structure fire and 1 working structure fire.  https://t.co/j7a5r7mjcE\n",
      "1418645649474695168 2021-07-23 14:54:14 -0400 <dcfireems> Water rescue call 34th St &amp; Cadys alley NW. #DCsBravest on scene at the C&amp;O Canal and sadly confirm this is a recovery rather than a rescue. @DCPoliceDept will handle.  https://t.co/FY6GGXW5k8\n",
      "1418236196564652033 2021-07-22 11:47:13 -0400 <dcfireems> #DCsBravest responded to 574 calls on Wednesday, July 21st. There were 178 critical and 280 non-critical EMS dispatches, and 116 fire related incidents and other types of emergencies.  https://t.co/IuGfSqA2pH\n",
      "1417887746744586247 2021-07-21 12:42:36 -0400 <dcfireems> #DCsBravest responded to 547 calls on Tuesday, July 20th. There were 150 critical and 285 non-critical EMS dispatches, and 112 fire related incidents and other types of emergencies.  https://t.co/6ycwHiC7K4\n",
      "1417498108339048451 2021-07-20 10:54:19 -0400 <dcfireems> #DCsBravest responded to 580 calls on Monday, July 19th. There were 156 critical and 320 non-critical EMS dispatches, and 104 fire related incidents and other types of emergencies,  including 1 working structure fire.  https://t.co/y24PbnQc8Q\n",
      "1417118947393118211 2021-07-19 09:47:40 -0400 <dcfireems> #DCsBravest responded to 585 calls on Sunday,July 18th. There were 188 critical and 298 non-critical EMS dispatches, and 99 fire related incidents and other types of emergencies.  https://t.co/D0BBTaaDzP\n",
      "1416802750336229380 2021-07-18 12:51:13 -0400 <dcfireems> #DCsBravest responded to 620 calls on Saturday, July 17th. There were 202 critical and 291 non-critical EMS dispatches, and 127 fire related incidents and other types of emergencies.  https://t.co/aLDbOA3pr9\n"
     ]
    },
    {
     "name": "stdout",
     "output_type": "stream",
     "text": [
      "1416462792220106755 2021-07-17 14:20:20 -0400 <dcfireems> #DCsBravest responded to 657 calls on Friday, July 16th. There were 192 critical and 326 non-critical EMS dispatches, and 139 fire related incidents and other types of emergencies, including 1 working structure fire.  https://t.co/SkQzLdQgqU\n",
      "1416045318790123525 2021-07-16 10:41:27 -0400 <dcfireems> #DCsBravest responded to 503 calls on Thursday, July 15th. There were 148 critical and 248 non critical EMS dispatches, and  107 fire related incidents and other types of emergencies.  https://t.co/pnc1ta225d\n",
      "1415653463049052162 2021-07-15 08:44:21 -0400 <dcfireems> #DCsBravest responded to 603 calls on Wednesday, July 14th. There were 162 critical and 312 non-critical EMS dispatches, and 129 fire related incidents and other types of emergencies, including 1 working structure fire and 1 mass casualty bus accident.  https://t.co/84hULftQOI\n",
      "1415446301324546053 2021-07-14 19:01:10 -0400 <dcfireems> #DCsBravest responded to 586 calls on Tuesday,July 13th. There were 164 critical and 307 non-critical EMS dispatches and 115 fire related incidents and other types of emergencies.  https://t.co/qc3c50tamt\n",
      "1414988104839090177 2021-07-13 12:40:28 -0400 <dcfireems> #DCsBravest responded to 574 calls on Monday, July 12th. There were 162 critical and 296 non-critical EMS dispatches, and 116 fire related incidents and other types of emergencies, including a 2 Alarm structure fire.  https://t.co/iuDkNlXFfV\n",
      "1414722915115880448 2021-07-12 19:06:41 -0400 <dcfireems> #DCsBravest responded to 574 calls on Sunday, July 11th. There were 164 critical and 311 non-critical EMS dispatches, and 99 fire related incidents and other types of emergencies.  https://t.co/VZD7HKcTRk\n",
      "1414209538786484233 2021-07-11 09:06:43 -0400 <dcfireems> #DCsBravest responded to 564 calls on Saturday, July 10th. There were 169 critical and 293 non-critical EMS dispatches, and 102 fire related incidents and other types of emergencies.  https://t.co/xUzBsorfvR\n",
      "1414171791291977730 2021-07-11 06:36:43 -0400 <dcfireems> #DCsBravest responded to 612 calls on Friday, July 9th. There were 176 critical and 312 non-critical EMS dispatches, and 124 fire related incidents and other types of emergencies.  https://t.co/fUoWCm4kbJ\n",
      "1413569512906055684 2021-07-09 14:43:29 -0400 <dcfireems> #DCsBravest responded to 571 calls on Thursday, July 8th.  There were 174 critical and 273 non-critical EMS dispatches, and 124 fire related incidents and other types of emergencies.  https://t.co/ygG1nLvBEM\n",
      "1413192195058851840 2021-07-08 13:44:09 -0400 <dcfireems> #DCsBravest responded to 590 calls on Wednesday, July 7th. There were 187 critical and 284 non-critical EMS dispatches, and 119 fire related incidents and other types of emergencies.  https://t.co/RNiXpTgdc1\n",
      "1412824382121119749 2021-07-07 13:22:36 -0400 <dcfireems> #DCsBravest responded to 593 calls on Tuesday, July 6th. There were 140 critical and 319 non-critical EMS dispatches, and 134 fire related incidents and other types of emergencies.  https://t.co/nj9knPjGMc\n",
      "1412465484616830984 2021-07-06 13:36:28 -0400 <dcfireems> #DCsBravest responded to 695 calls on Monday, July 5th. There were 184 critical and 331 non-critical EMS dispatches, and 180 fire related incidents and other types of emergencies.  https://t.co/D9pAZMIxp7\n",
      "1412117272550903808 2021-07-05 14:32:48 -0400 <dcfireems> #DCsBravest responded to 737 calls on Sunday, the 4th of July. There were 214 critical and 329 non-critical EMS dispatches, and 194 fire related incidents and other types of emergencies, which is almost double the average for this type of response.  https://t.co/tpCEdsufCe\n",
      "1411982047434903552 2021-07-05 05:35:28 -0400 <dcfireems> Crash with multiple patients 13th &amp; L Sts NW. 2 vehicles involved. #DCsBravest assessed 10 patients. 2 were transported serious but non life threatening injuries and the remainder refused further medical treatment. Call dispatched 4:23 AM.\n",
      "1411778738883284993 2021-07-04 16:07:35 -0400 <dcfireems> #DCsBravest responded to 629 calls on Saturday, July 3rd. There were 193 critical and 311 non-critical EMS dispatches, and 125 fire related incidents and other types of emergencies.  https://t.co/ucDp3JoooM\n",
      "1411427881293598726 2021-07-03 16:53:24 -0400 <dcfireems> #DCsBravest responded to 586 calls on Friday, July 2nd. There were 175 critical and 271 non-critical EMS dispatches, and 140 fire related incidents and other types of emergencies.  https://t.co/rvNgN0y49Q\n",
      "1410947479797964802 2021-07-02 09:04:27 -0400 <dcfireems> #DCsBravest responded to 660 calls on Thursday, July 1. There were 160 critical and 286 non-critical EMS dispatches, and 214 fire related incidents and other types of emergencies. The non EMS responses are double the daily average, and many were storm related.  https://t.co/I3PxPK32jN\n",
      "1410798627845517321 2021-07-01 23:12:58 -0400 <dcfireems> #DCsBravest responded to 548 calls on Wednesday, June 30th. There were 136 critical and 283 non-critical EMS dispatches, and 129 fire related incidents and other types of emergencies.  https://t.co/KvBkQDfwva\n",
      "1410778683741196299 2021-07-01 21:53:43 -0400 <dcfireems> #DCsBravest are busy responding to calls for trees and power lines down in several sections of the city. There have been no reports of structural damage or injuries.\n",
      "1410258446901989386 2021-06-30 11:26:29 -0400 <dcfireems> #DCsBravest responded to 555 calls on Tuesday, June 29th. There were 187 critical and 261 non-critical EMS dispatches, and 107 fire related incidents and other types of emergencies.  https://t.co/5HEkvRj1wZ\n",
      "[!] No more data! Scraping will stop now.\n",
      "found 0 deleted tweets in this search.\n",
      "[+] Finished: Successfully collected 100 Tweets from @dcfireems.\n"
     ]
    }
   ],
   "source": [
    "# Configure\n",
    "c = twint.Config()\n",
    "c.Username = \"dcfireems\"\n",
    "# TODO: refine search query to call only relevent tweets from dcfireems\n",
    "# Test search.\n",
    "c.Search = \"#DCsBravest calls\"\n",
    "c.Store_json = True\n",
    "c.Output = \"./DC_Fire_EMS_Tweets.json\"\n",
    "c.Count = True\n",
    "# Run\n",
    "twint.run.Search(c)"
   ]
  },
  {
   "cell_type": "code",
   "execution_count": null,
   "id": "868ec34b",
   "metadata": {},
   "outputs": [],
   "source": []
  }
 ],
 "metadata": {
  "kernelspec": {
   "display_name": "Python 3",
   "language": "python",
   "name": "python3"
  },
  "language_info": {
   "codemirror_mode": {
    "name": "ipython",
    "version": 3
   },
   "file_extension": ".py",
   "mimetype": "text/x-python",
   "name": "python",
   "nbconvert_exporter": "python",
   "pygments_lexer": "ipython3",
   "version": "3.8.8"
  }
 },
 "nbformat": 4,
 "nbformat_minor": 5
}
