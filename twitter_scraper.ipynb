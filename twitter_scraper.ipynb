{
 "cells": [
  {
   "cell_type": "code",
   "execution_count": 5,
   "id": "e7d0cc9a",
   "metadata": {},
   "outputs": [],
   "source": [
    "# open source twitter scraper\n",
    "import twint\n",
    "import pandas\n",
    "# resolved an event loop error: https://stackoverflow.com/questions/67585628/runtimeerror-in-twint-this-event-loop-is-already-running\n",
    "import nest_asyncio\n",
    "nest_asyncio.apply()"
   ]
  },
  {
   "cell_type": "code",
   "execution_count": 6,
   "id": "8d9f9f55",
   "metadata": {
    "scrolled": true
   },
   "outputs": [
    {
     "name": "stdout",
     "output_type": "stream",
     "text": [
      "1440302634036957185 2021-09-21 09:11:22 -0400 <dcfireems> #DCsBravest responded to 568 calls on Monday, September 20th. There were 179 critical and 287 non-critical EMS dispatches, and 102 fire related incidents and other types of emergencies.  https://t.co/41LbYPrlqk\n",
      "1439934940918042631 2021-09-20 08:50:17 -0400 <dcfireems> #DCsBravest responded to 620 calls on Sunday, September 19th. There were 178 critical and 311 non-critical EMS dispatches, and 131 fire related incidents and other types of emergencies.  https://t.co/KVlQ20aEtE\n",
      "1439689443624071168 2021-09-19 16:34:46 -0400 <dcfireems> #DCsBravest responded to 647 calls on Saturday, September 18th. There were 176 critical and 365 non critical EMS dispatches, and 106 fire related incidents and other types of emergencies.  https://t.co/Ih9rEHxPXp\n",
      "1439267720822935553 2021-09-18 12:38:59 -0400 <dcfireems> #DCsBravest responded to 557 calls on Friday, September 17th. There were 156 critical and 305 non-critical EMS dispatches, and 96 fire related incidents and other types of emergencies.  https://t.co/UI6XdzDnLO\n",
      "1438843139620474898 2021-09-17 08:31:51 -0400 <dcfireems> #DCsBravest responded to 611 calls on Thursday, September 16th. There were 179 critical and 313 non-critical EMS dispatches, and 119 fire related incidents and other types of emergencies, including 1 working structure fire and 1 two alarm structure fire.  https://t.co/b8DBnb4Lm2\n",
      "1438628780952760324 2021-09-16 18:20:04 -0400 <dcfireems> #DCsBravest responded to 628 calls on Wednesday, September 15th. There were 179 critical and 317 non-critical EMS dispatches, and 132 fire related incidents and other types of emergencies, including 1 working structure fire.  https://t.co/wcQifVIjcX\n",
      "1438191556327002114 2021-09-15 13:22:41 -0400 <dcfireems> #DCsBravest Engine Co. 3 on a recent call to the US Capitol. Whomever you are or wherever you may be in our great city, DC Fire and EMS will be there for you.  https://t.co/aD8tm2Ky7s\n",
      "1437790736297119749 2021-09-14 10:49:59 -0400 <dcfireems> #DCsBravest responded to 625 calls on Monday, September 13th. There were 186 critical and 324 non-critical EMS dispatches, and 115 fire related incidents and other types of emergencies, including 1 working structure fire.  https://t.co/z8OYT42jVr\n",
      "1437468711162634245 2021-09-13 13:30:22 -0400 <dcfireems> #DCsBravest responded to 560 calls on Sunday, September 12th. There were 193 critical and 269 non-critical EMS dispatches, and 98 fire related incidents and other types of emergencies, including 1 working structure fire.  https://t.co/FhujgB5d0o\n",
      "1437128686185160705 2021-09-12 14:59:14 -0400 <dcfireems> On Saturday, September 11th #DCsBravest responded to 587 calls on the 20th Anniversary of 9/11. There were 179 critical and 308 non-critical EMS calls, and 100 fire related incidents and other types of emergencies. NEVER FORGET! (Photo by @DCFIREBYE)  https://t.co/FPHSzqtMWx\n",
      "1436693840958795779 2021-09-11 10:11:18 -0400 <dcfireems> Even as we remember the 20th Anniversary of 9/11, #DCsBravest continue to answer the call. 24/7 365 days a year.  https://t.co/FmECyUKZHC\n",
      "1436658710370299904 2021-09-11 07:51:43 -0400 <dcfireems> #DCsBravest responded to 630 calls on Friday,September 10th. There were 198 critical and 302 non-critical EMS dispatches, and 130 fire related incidents and other types of emergencies, including 1 two alarm structure fire.  https://t.co/786TfgkdYv\n",
      "1436020767528001542 2021-09-09 13:36:45 -0400 <dcfireems> #DCsBravest responded to 588 calls on Wednesday, September 8th. There were 180 critical and 297 non-critical EMS dispatches, and 111 fire related incidents and other types of emergencies.  https://t.co/sESLKcSDxR\n",
      "1435966811586002950 2021-09-09 10:02:21 -0400 <dcfireems> #DCsBravest Fire Prevention personnel &amp; local firefighters going door to door preaching fire safety and checking smoke alarms. This is our monthly All Hands on Fire Prevention targeting a different neighborhood monthly. DC homeowners can call 311 to get a smoke alarm.  https://t.co/KqGlaJmlLM\n",
      "1435605739993767936 2021-09-08 10:07:35 -0400 <dcfireems> #DCsBravest responded to 592 calls on Tuesday, September 7th. There were 166 critical and 289 non-critical EMS dispatches, and 137 fire related incidents and other types of emergencies.  https://t.co/VFyZoRMmpt\n",
      "1435263503011663879 2021-09-07 11:27:39 -0400 <dcfireems> #DCsBravest responded to 597 calls on Monday, September 6th. There were 184 critical and 296 non-critical EMS dispatches, and 117 fire related incidents and other types of emergencies.  https://t.co/9MKHgdaAN4\n",
      "1435059518757642244 2021-09-06 21:57:06 -0400 <dcfireems> #DCsBravest responded to 574 calls on Sunday, September 5th. There were 170 critical and 300 non-critical EMS dispatches, and 104 fire related incidents and other types of emergencies, including 1 working structure fire.  https://t.co/O01P2WTSS4\n",
      "1434553005454602240 2021-09-05 12:24:23 -0400 <dcfireems> #DCsBravest responded to 608 calls on Saturday, September 4th. There were 158 critical and 333 non-critical EMS dispatches, and 117 fire related incidents and other types of emergencies, including a 2 Alarm structure fire and another working structure fire.  https://t.co/MPzvg0fQrn\n",
      "1434326890433679367 2021-09-04 21:25:53 -0400 <dcfireems> #DCsBravest responded to 627 calls on Friday, September 3rd. There were 194 critical and 322 non-critical EMS dispatches, and 111 fire related incidents and other types of emergencies.  https://t.co/n7cmS3sekh\n",
      "1433819732428328973 2021-09-03 11:50:37 -0400 <dcfireems> #DCsBravest responded to 587 calls on Thursday, September 2nd. There were 188 critical and 289 non-critical EMS dispatches, and 110 fire related incidents and other types of emergencies, including 1 working structure fire.  https://t.co/3g7LS8JFkg\n",
      "[!] No more data! Scraping will stop now.\n",
      "found 0 deleted tweets in this search.\n",
      "[+] Finished: Successfully collected 20 Tweets from @dcfireems.\n"
     ]
    }
   ],
   "source": [
    "# Configure\n",
    "c = twint.Config()\n",
    "c.Username = \"dcfireems\"\n",
    "# TODO: refine search query to call only relevent tweets from dcfireems\n",
    "# Test search.\n",
    "c.Search = \"#DCsBravest calls\"\n",
    "c.Store_csv = True\n",
    "c.Output = \"./DC_Fire_EMS_Tweets.csv\"\n",
    "c.Count = True\n",
    "# Run\n",
    "twint.run.Search(c)"
   ]
  },
  {
   "cell_type": "code",
   "execution_count": null,
   "id": "868ec34b",
   "metadata": {},
   "outputs": [],
   "source": []
  }
 ],
 "metadata": {
  "kernelspec": {
   "display_name": "Python 3",
   "language": "python",
   "name": "python3"
  },
  "language_info": {
   "codemirror_mode": {
    "name": "ipython",
    "version": 3
   },
   "file_extension": ".py",
   "mimetype": "text/x-python",
   "name": "python",
   "nbconvert_exporter": "python",
   "pygments_lexer": "ipython3",
   "version": "3.8.8"
  }
 },
 "nbformat": 4,
 "nbformat_minor": 5
}
