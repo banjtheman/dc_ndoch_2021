{
 "cells": [
  {
   "cell_type": "code",
   "execution_count": 1,
   "id": "e7d0cc9a",
   "metadata": {},
   "outputs": [],
   "source": [
    "# open source twitter scraper\n",
    "import twint\n",
    "import pandas\n",
    "# resolved an event loop error: https://stackoverflow.com/questions/67585628/runtimeerror-in-twint-this-event-loop-is-already-running\n",
    "import nest_asyncio\n",
    "nest_asyncio.apply()"
   ]
  },
  {
   "cell_type": "code",
   "execution_count": 2,
   "id": "8d9f9f55",
   "metadata": {
    "scrolled": true
   },
   "outputs": [
    {
     "name": "stdout",
     "output_type": "stream",
     "text": [
      "1440686839321358345 2021-09-22 10:38:03 -0400 <dcfireems> #DCsBravest responded to 603 calls on Tuesday, September 21st. There were 178 critical and 308 non-critical EMS dispatches, and 117 fire related incidents and other types of emergencies.  https://t.co/WMe4JM8GM8\n",
      "1440302634036957185 2021-09-21 09:11:22 -0400 <dcfireems> #DCsBravest responded to 568 calls on Monday, September 20th. There were 179 critical and 287 non-critical EMS dispatches, and 102 fire related incidents and other types of emergencies.  https://t.co/41LbYPrlqk\n",
      "1439934940918042631 2021-09-20 08:50:17 -0400 <dcfireems> #DCsBravest responded to 620 calls on Sunday, September 19th. There were 178 critical and 311 non-critical EMS dispatches, and 131 fire related incidents and other types of emergencies.  https://t.co/KVlQ20aEtE\n",
      "1439689443624071168 2021-09-19 16:34:46 -0400 <dcfireems> #DCsBravest responded to 647 calls on Saturday, September 18th. There were 176 critical and 365 non critical EMS dispatches, and 106 fire related incidents and other types of emergencies.  https://t.co/Ih9rEHxPXp\n",
      "1439267720822935553 2021-09-18 12:38:59 -0400 <dcfireems> #DCsBravest responded to 557 calls on Friday, September 17th. There were 156 critical and 305 non-critical EMS dispatches, and 96 fire related incidents and other types of emergencies.  https://t.co/UI6XdzDnLO\n",
      "1438843139620474898 2021-09-17 08:31:51 -0400 <dcfireems> #DCsBravest responded to 611 calls on Thursday, September 16th. There were 179 critical and 313 non-critical EMS dispatches, and 119 fire related incidents and other types of emergencies, including 1 working structure fire and 1 two alarm structure fire.  https://t.co/b8DBnb4Lm2\n",
      "1438628780952760324 2021-09-16 18:20:04 -0400 <dcfireems> #DCsBravest responded to 628 calls on Wednesday, September 15th. There were 179 critical and 317 non-critical EMS dispatches, and 132 fire related incidents and other types of emergencies, including 1 working structure fire.  https://t.co/wcQifVIjcX\n",
      "1438191556327002114 2021-09-15 13:22:41 -0400 <dcfireems> #DCsBravest Engine Co. 3 on a recent call to the US Capitol. Whomever you are or wherever you may be in our great city, DC Fire and EMS will be there for you.  https://t.co/aD8tm2Ky7s\n",
      "1437790736297119749 2021-09-14 10:49:59 -0400 <dcfireems> #DCsBravest responded to 625 calls on Monday, September 13th. There were 186 critical and 324 non-critical EMS dispatches, and 115 fire related incidents and other types of emergencies, including 1 working structure fire.  https://t.co/z8OYT42jVr\n",
      "[!] No more data! Scraping will stop now.\n",
      "found 0 deleted tweets in this search.\n",
      "[+] Finished: Successfully collected 9 Tweets from @dcfireems.\n"
     ]
    }
   ],
   "source": [
    "# Configure\n",
    "c = twint.Config()\n",
    "c.Username = \"dcfireems\"\n",
    "# TODO: refine search query to call only relevent tweets from dcfireems\n",
    "# Test search.\n",
    "c.Search = \"#DCsBravest calls\"\n",
    "c.Store_csv = True\n",
    "c.Output = \"../data/DC_Fire_EMS_Tweets.csv\"\n",
    "c.Count = True\n",
    "# Run\n",
    "twint.run.Search(c)"
   ]
  },
  {
   "cell_type": "code",
   "execution_count": null,
   "id": "868ec34b",
   "metadata": {},
   "outputs": [],
   "source": []
  }
 ],
 "metadata": {
  "kernelspec": {
   "display_name": "Python 3",
   "language": "python",
   "name": "python3"
  },
  "language_info": {
   "codemirror_mode": {
    "name": "ipython",
    "version": 3
   },
   "file_extension": ".py",
   "mimetype": "text/x-python",
   "name": "python",
   "nbconvert_exporter": "python",
   "pygments_lexer": "ipython3",
   "version": "3.8.8"
  }
 },
 "nbformat": 4,
 "nbformat_minor": 5
}
