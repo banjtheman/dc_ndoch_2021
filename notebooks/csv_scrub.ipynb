{
 "cells": [
  {
   "cell_type": "code",
   "execution_count": 4,
   "id": "f62f1d7e",
   "metadata": {},
   "outputs": [],
   "source": [
    "import pandas as pd\n",
    "import re\n",
    "from itertools import chain"
   ]
  },
  {
   "cell_type": "code",
   "execution_count": 5,
   "id": "2200f928",
   "metadata": {},
   "outputs": [],
   "source": [
    "header_list = [\"id\", \"conversion_id\", \"create_at\", \"date\", \"time\", \"timezone\", \"user_id\", \"username\", \"name\", \"place\", \"tweet\", \"language\", \"mentions\", \"urls\", \"photos\", \"replies_count\", \"retweets_count\", \"likes_count\", \"hashtags\", \"cashtags\", \"link\", \"retweet\", \"quote_url\", \"video\", \"thumbnail\", \"near\", \"geo\", \"source\", \"user_rt_id\", \"user_rt\", \"retweet_id\", \"reply_to\", \"retweet_date\", \"translate\", \"trans_src\", \"trans_dest\"]"
   ]
  },
  {
   "cell_type": "code",
   "execution_count": 6,
   "id": "95ca2bd4",
   "metadata": {},
   "outputs": [],
   "source": [
    "ems_df = pd.read_csv(\"../data/DC_Fire_EMS_Tweets.csv\", names=header_list)"
   ]
  },
  {
   "cell_type": "code",
   "execution_count": 7,
   "id": "7f65d170",
   "metadata": {},
   "outputs": [],
   "source": [
    "output = ems_df.head()"
   ]
  },
  {
   "cell_type": "code",
   "execution_count": 8,
   "id": "05f47471",
   "metadata": {},
   "outputs": [],
   "source": [
    "ems_df.drop(\"id\", inplace=True, axis=1)"
   ]
  },
  {
   "cell_type": "code",
   "execution_count": 12,
   "id": "8b93b131",
   "metadata": {},
   "outputs": [],
   "source": [
    "tweets = ems_df[\"tweet\"]\n",
    "for index, tweet in enumerate(tweets):\n",
    "    search_reg = \"(Jan(?:uary)?|Feb(?:ruary)?|Mar(?:ch)?|Apr(?:il)?|May|Jun(?:e)?|Jul(?:y)?|Aug(?:ust)?|Sep(?:tember)?|Oct(?:ober)?|Nov(?:ember)?|Dec(?:ember)?)\\s+(\\d{1,2})|(responded to )(\\d+)|(\\d+)( critical)|(\\d+)( non[ -]critical)|(\\d+)( fire related)|(https\\:\\/\\/t\\.co\\/[A-Za-z0-9]{10})\"\n",
    "    parsed_tweet = re.findall('%s' % search_reg, tweet)\n",
    "    if parsed_tweet and len(parsed_tweet) > 1:\n",
    "        unwrapped = list(sum(parsed_tweet, ()))\n",
    "        joined = \" \".join(unwrapped).split()\n",
    "        date = joined[3]+\"-\"+joined[4]+\"-\"+\"2021\"\n",
    "        ems_df.loc[index, [\"date\",\"total_calls\",\"crit_calls\", \"non_crit_calls\",\"fire_calls\", \"source\"]] = date, joined[2], joined[5],joined[7], joined[9], joined[12]"
   ]
  },
  {
   "cell_type": "code",
   "execution_count": 14,
   "id": "b815545b",
   "metadata": {},
   "outputs": [],
   "source": [
    "ems_df[[\"date\", \"total_calls\", \"crit_calls\",\"non_crit_calls\",\"fire_calls\",\"source\"]].to_csv('../data/call_data.csv', index=False)"
   ]
  },
  {
   "cell_type": "code",
   "execution_count": null,
   "id": "25dbb81e",
   "metadata": {},
   "outputs": [],
   "source": [
    "# got \"^[a-zA-Z]{3}\\s+\\d{1,2}\" from: https://stackoverflow.com/questions/30490087/python-regex-match-month-date-time\n",
    "# got \"+(?:st|[nr]d|th)\" from: https://stackoverflow.com/questions/46542214/how-to-locate-xx-st-nd-rd-th-using-regex-python"
   ]
  }
 ],
 "metadata": {
  "interpreter": {
   "hash": "aee8b7b246df8f9039afb4144a1f6fd8d2ca17a180786b69acc140d282b71a49"
  },
  "kernelspec": {
   "display_name": "Python 3",
   "language": "python",
   "name": "python3"
  },
  "language_info": {
   "codemirror_mode": {
    "name": "ipython",
    "version": 3
   },
   "file_extension": ".py",
   "mimetype": "text/x-python",
   "name": "python",
   "nbconvert_exporter": "python",
   "pygments_lexer": "ipython3",
   "version": "3.8.8"
  }
 },
 "nbformat": 4,
 "nbformat_minor": 5
}
