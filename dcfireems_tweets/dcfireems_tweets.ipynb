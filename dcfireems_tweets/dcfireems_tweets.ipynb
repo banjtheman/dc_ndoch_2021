{
 "cells": [
  {
   "cell_type": "code",
   "execution_count": 48,
   "id": "aedb72d6",
   "metadata": {},
   "outputs": [],
   "source": [
    "import os\n",
    "import json\n",
    "import re\n",
    "from configparser import RawConfigParser\n",
    "\n",
    "import requests\n",
    "import pandas as pd\n"
   ]
  },
  {
   "cell_type": "code",
   "execution_count": 5,
   "id": "427b3c59",
   "metadata": {},
   "outputs": [
    {
     "data": {
      "text/plain": [
       "'C:\\\\Users\\\\kweni\\\\PycharmProjects\\\\dc_ndoch_2021'"
      ]
     },
     "execution_count": 5,
     "metadata": {},
     "output_type": "execute_result"
    }
   ],
   "source": [
    "CUR_DIR = os.getcwd()\n",
    "PROJ_DIR = os.path.join(CUR_DIR, os.pardir)\n",
    "os.path.abspath(PROJ_DIR)"
   ]
  },
  {
   "cell_type": "code",
   "execution_count": 11,
   "id": "d75a67f1",
   "metadata": {},
   "outputs": [],
   "source": [
    "# load config.ini and read twitter secrets\n",
    "config_parser = RawConfigParser()\n",
    "config_parser.read(\n",
    "    os.path.join(PROJ_DIR, 'config.ini')\n",
    ")\n",
    "TWIT_TOKEN = f'Bearer {config_parser.get(\"twitter\", \"bearer_token\")}'\n",
    "REQ_HEADER = {\n",
    "    'Authorization': TWIT_TOKEN\n",
    "}"
   ]
  },
  {
   "cell_type": "code",
   "execution_count": 13,
   "id": "9084a207",
   "metadata": {},
   "outputs": [],
   "source": [
    "# lookup user_id for dcfireems handle\n",
    "TWITTER_HANDLE = 'dcfireems'\n",
    "def create_user_url(user_name=TWITTER_HANDLE):\n",
    "    url = f'https://api.twitter.com/2/users/by/username/{user_name}'\n",
    "    params = {}\n",
    "    \n",
    "    return (url, params)"
   ]
  },
  {
   "cell_type": "code",
   "execution_count": 30,
   "id": "5631a5b8",
   "metadata": {},
   "outputs": [],
   "source": [
    "def create_tweets_url(user_id, max_results=100):\n",
    "    url = f'https://api.twitter.com/2/users/{user_id}/tweets'\n",
    "    \n",
    "    params = {\n",
    "        'max_results': max_results,\n",
    "        'expansions': 'author_id,in_reply_to_user_id',\n",
    "        'tweet.fields': 'id,text,author_id,created_at'\n",
    "    }\n",
    "        \n",
    "    return (url, params)"
   ]
  },
  {
   "cell_type": "code",
   "execution_count": 21,
   "id": "bef83d35",
   "metadata": {},
   "outputs": [],
   "source": [
    "def api_req(url, headers, params, next_token=''):\n",
    "    if next_token:\n",
    "        params['pagination_token'] = next_token\n",
    "        \n",
    "    resp = requests.get(url, headers = headers, params = params)\n",
    "    print('Response code: ', str(resp.status_code))\n",
    "    if resp.status_code != 200:\n",
    "        raise Exception(resp.status_code, resp.text)\n",
    "    return resp.json()"
   ]
  },
  {
   "cell_type": "code",
   "execution_count": 23,
   "id": "08830761",
   "metadata": {},
   "outputs": [
    {
     "name": "stdout",
     "output_type": "stream",
     "text": [
      "Response code:  200\n"
     ]
    },
    {
     "data": {
      "text/plain": [
       "'20069434'"
      ]
     },
     "execution_count": 23,
     "metadata": {},
     "output_type": "execute_result"
    }
   ],
   "source": [
    "# get id from username\n",
    "req_url, req_params = create_user_url()\n",
    "resp = api_req(req_url, REQ_HEADER, req_params)\n",
    "TWIT_ID = resp['data']['id']\n",
    "TWIT_ID"
   ]
  },
  {
   "cell_type": "code",
   "execution_count": 31,
   "id": "6cc8ef6d",
   "metadata": {},
   "outputs": [
    {
     "name": "stdout",
     "output_type": "stream",
     "text": [
      "Response code:  200\n"
     ]
    },
    {
     "data": {
      "text/plain": [
       "{'data': [{'id': '1446627599028035587',\n",
       "   'created_at': '2021-10-09T00:04:31.000Z',\n",
       "   'author_id': '20069434',\n",
       "   'in_reply_to_user_id': '20069434',\n",
       "   'text': 'https://t.co/IzDOC4Fbtu'},\n",
       "  {'id': '1446627469570760710',\n",
       "   'created_at': '2021-10-09T00:04:00.000Z',\n",
       "   'author_id': '20069434',\n",
       "   'text': 'Students at the Sunshine Day Care Center in Ward 8 had a very special visit with #DCsBravest during #FirePreventionWeek. Not only did they learn the sounds of fire safety, they also were able to spend time getting to know the ladder truck and our Firefighters. #SaferStrongerDC https://t.co/pKQnnr4vvJ'},\n",
       "  {'id': '1446619775132704768',\n",
       "   'created_at': '2021-10-08T23:33:25.000Z',\n",
       "   'author_id': '20069434',\n",
       "   'text': '#DCsBravest have responded to a Box Alarm on the 1200 Block of Taylor Street NW. Upon arrival, @dcfireems found smoke coming from the front door of a 2 story commercial building. A fire on the first floor is contained. All searches negative. There are no injuries to report.'},\n",
       "  {'id': '1446613993381154823',\n",
       "   'created_at': '2021-10-08T23:10:27.000Z',\n",
       "   'author_id': '20069434',\n",
       "   'text': '#DCsBravest were proud to help wish Ward 7 resident Mrs. Kearney a very Happy 100th Birthday! Together with @wmata, @DC_Housing, @SecretService, and @DCPoliceDept, @dcfireems was happy to help make this a very special day. #SaferStrongerDC https://t.co/WtBIFD60Ey https://t.co/nFEspc4geQ'},\n",
       "  {'id': '1446484645739175940',\n",
       "   'created_at': '2021-10-08T14:36:28.000Z',\n",
       "   'author_id': '20069434',\n",
       "   'text': 'Happy Friday DC from #DCsBravest Engine 15, Rescue 3, Ambulance 15, and Battalion 3 in #Anacostia Have a great weekend!! https://t.co/VF7SzWFIkE'}],\n",
       " 'includes': {'users': [{'id': '20069434',\n",
       "    'name': 'DC Fire and EMS',\n",
       "    'username': 'dcfireems'}]},\n",
       " 'meta': {'oldest_id': '1446484645739175940',\n",
       "  'newest_id': '1446627599028035587',\n",
       "  'result_count': 5,\n",
       "  'next_token': '7140dibdnow9c7btw3z2gmo6hyz1f1umj8kizdm08hmi8'}}"
      ]
     },
     "execution_count": 31,
     "metadata": {},
     "output_type": "execute_result"
    }
   ],
   "source": [
    "# verify recent tweets requests provide sufficient data\n",
    "req_url, req_params = create_tweets_url(user_id=TWIT_ID, max_results=5)\n",
    "api_req(req_url, REQ_HEADER, req_params)"
   ]
  },
  {
   "cell_type": "code",
   "execution_count": 67,
   "id": "13ec0211",
   "metadata": {},
   "outputs": [],
   "source": [
    "def get_all_tweets(user_id='', to_csv=True) -> pd.DataFrame:\n",
    "    if not user_id:\n",
    "        print('Fetching user_id...')\n",
    "        req_url, req_params = create_user_url()\n",
    "        resp = api_req(req_url, REQ_HEADER, req_params)\n",
    "        user_id = resp['data']['id']\n",
    "    \n",
    "    # get first set of tweets\n",
    "    print('Fetching initial tweets...')\n",
    "    req_url, req_params = create_tweets_url(user_id=user_id)\n",
    "    resp = api_req(req_url, REQ_HEADER, req_params)\n",
    "    count = resp['meta']['result_count']\n",
    "    next_token = resp['meta']['next_token']\n",
    "    print(f'\\tReturned {count} results and next token: {next_token}')\n",
    "    newest_id = resp['meta']['newest_id']\n",
    "    \n",
    "    # init dataframe for storing tweets\n",
    "    tweets_df = pd.DataFrame.from_records(resp['data'])\n",
    "    \n",
    "    # fetch remaining tweets\n",
    "    while next_token:\n",
    "        print(f'Fetching tweeks for {next_token}...')\n",
    "        resp = api_req(req_url, REQ_HEADER, req_params, next_token)\n",
    "        \n",
    "        # update counts, next token, and data frame\n",
    "        count += resp['meta']['result_count']\n",
    "        try:\n",
    "            next_token = resp['meta']['next_token']\n",
    "        except KeyError:\n",
    "            next_token = ''\n",
    "        print(f'\\tReturned {count} results and next token: {next_token}')\n",
    "        \n",
    "        next_df = pd.DataFrame.from_records(resp['data'])\n",
    "        tweets_df = pd.concat([tweets_df, next_df], ignore_index=True)\n",
    "        print('Total tweets in df:', tweets_df.shape)\n",
    "        \n",
    "    if to_csv:\n",
    "        file_name = f'raw_dcfireems_tweets_{newest_id}.csv'\n",
    "        tweets_df.to_csv(file_name, index=False)\n",
    "        \n",
    "    return tweets_df\n"
   ]
  },
  {
   "cell_type": "code",
   "execution_count": 68,
   "id": "2b0b2081",
   "metadata": {},
   "outputs": [
    {
     "name": "stdout",
     "output_type": "stream",
     "text": [
      "Fetching initial tweets...\n",
      "Response code:  200\n",
      "\tReturned 100 results and next token: 7140dibdnow9c7btw3z2ggali9jgvohlrbaxxcdisa69e\n",
      "Fetching tweeks for 7140dibdnow9c7btw3z2ggali9jgvohlrbaxxcdisa69e...\n",
      "Response code:  200\n",
      "\tReturned 200 results and next token: 7140dibdnow9c7btw3z21ngprtlry0oon0utkn083pwdw\n",
      "Total tweets in df: (200, 5)\n",
      "Fetching tweeks for 7140dibdnow9c7btw3z21ngprtlry0oon0utkn083pwdw...\n",
      "Response code:  200\n",
      "\tReturned 300 results and next token: 7140dibdnow9c7btw3z21j625e4ey1rbwksahtgapku9e\n",
      "Total tweets in df: (300, 5)\n",
      "Fetching tweeks for 7140dibdnow9c7btw3z21j625e4ey1rbwksahtgapku9e...\n",
      "Response code:  200\n",
      "\tReturned 400 results and next token: 7140dibdnow9c7btw3z21ctdv3somk37dmt0u94a4cd2w\n",
      "Total tweets in df: (400, 5)\n",
      "Fetching tweeks for 7140dibdnow9c7btw3z21ctdv3somk37dmt0u94a4cd2w...\n",
      "Response code:  200\n",
      "\tReturned 500 results and next token: 7140dibdnow9c7btw3z218i4ntkc1qu8tlwxq360q9fzt\n",
      "Total tweets in df: (500, 5)\n",
      "Fetching tweeks for 7140dibdnow9c7btw3z218i4ntkc1qu8tlwxq360q9fzt...\n",
      "Response code:  200\n",
      "\tReturned 600 results and next token: 7140dibdnow9c7btw3z1mhurwavbdmrn2idfllp9va1bo\n",
      "Total tweets in df: (600, 5)\n",
      "Fetching tweeks for 7140dibdnow9c7btw3z1mhurwavbdmrn2idfllp9va1bo...\n",
      "Response code:  200\n",
      "\tReturned 700 results and next token: 7140dibdnow9c7btw3z1m9crf57bvy63t37198dr6aals\n",
      "Total tweets in df: (700, 5)\n",
      "Fetching tweeks for 7140dibdnow9c7btw3z1m9crf57bvy63t37198dr6aals...\n",
      "Response code:  200\n",
      "\tReturned 800 results and next token: 7140dibdnow9c7btw3z1m2yl3ojlbg287z6jiyvkku0c6\n",
      "Total tweets in df: (800, 5)\n",
      "Fetching tweeks for 7140dibdnow9c7btw3z1m2yl3ojlbg287z6jiyvkku0c6...\n",
      "Response code:  200\n",
      "\tReturned 900 results and next token: 7140dibdnow9c7btw3z1lynxfq0fc5bhlzyrkmbswb77a\n",
      "Total tweets in df: (900, 5)\n",
      "Fetching tweeks for 7140dibdnow9c7btw3z1lynxfq0fc5bhlzyrkmbswb77a...\n",
      "Response code:  200\n",
      "\tReturned 1000 results and next token: 7140dibdnow9c7btw3z1780kmoh95p2slz31z5esphgza\n",
      "Total tweets in df: (1000, 5)\n",
      "Fetching tweeks for 7140dibdnow9c7btw3z1780kmoh95p2slz31z5esphgza...\n",
      "Response code:  200\n",
      "\tReturned 1100 results and next token: 7140dibdnow9c7btw3z171lskasw0tdtloj99nc5fcqwp\n",
      "Total tweets in df: (1100, 5)\n",
      "Fetching tweeks for 7140dibdnow9c7btw3z171lskasw0tdtloj99nc5fcqwp...\n",
      "Response code:  200\n",
      "\tReturned 1200 results and next token: 7140dibdnow9c7btw3z16v7x5u10k64ys7alor2cg27u8\n",
      "Total tweets in df: (1200, 5)\n",
      "Fetching tweeks for 7140dibdnow9c7btw3z16v7x5u10k64ys7alor2cg27u8...\n",
      "Response code:  200\n",
      "\tReturned 1300 results and next token: 7140dibdnow9c7btw3z0s6o2vr6av3pqske463txurl15\n",
      "Total tweets in df: (1300, 5)\n",
      "Fetching tweeks for 7140dibdnow9c7btw3z0s6o2vr6av3pqske463txurl15...\n",
      "Response code:  200\n",
      "\tReturned 1400 results and next token: 7140dibdnow9c7btw3z0s0902h68wo562dpavej5rr6m1\n",
      "Total tweets in df: (1400, 5)\n",
      "Fetching tweeks for 7140dibdnow9c7btw3z0s0902h68wo562dpavej5rr6m1...\n",
      "Response code:  200\n",
      "\tReturned 1500 results and next token: 7140dibdnow9c7btw3z0rtt11z3r706yfqvpgr7w1xj5d\n",
      "Total tweets in df: (1500, 5)\n",
      "Fetching tweeks for 7140dibdnow9c7btw3z0rtt11z3r706yfqvpgr7w1xj5d...\n",
      "Response code:  200\n",
      "\tReturned 1600 results and next token: 7140dibdnow9c7btw3z0rng1upyt25n9xtd1bvav162wp\n",
      "Total tweets in df: (1600, 5)\n",
      "Fetching tweeks for 7140dibdnow9c7btw3z0rng1upyt25n9xtd1bvav162wp...\n",
      "Response code:  200\n",
      "\tReturned 1700 results and next token: 7140dibdnow9c7btw3w4skuwve8hzaw91535rgn9r5np1\n",
      "Total tweets in df: (1700, 5)\n",
      "Fetching tweeks for 7140dibdnow9c7btw3w4skuwve8hzaw91535rgn9r5np1...\n",
      "Response code:  200\n",
      "\tReturned 1800 results and next token: 7140dibdnow9c7btw3w4sgjo4rs4iwwju0gr91xkfkkkx\n",
      "Total tweets in df: (1800, 5)\n",
      "Fetching tweeks for 7140dibdnow9c7btw3w4sgjo4rs4iwwju0gr91xkfkkkx...\n",
      "Response code:  200\n",
      "\tReturned 1900 results and next token: 7140dibdnow9c7btw3w4s81ynob59cdk8up2l9y6qymns\n",
      "Total tweets in df: (1900, 5)\n",
      "Fetching tweeks for 7140dibdnow9c7btw3w4s81ynob59cdk8up2l9y6qymns...\n",
      "Response code:  200\n",
      "\tReturned 2000 results and next token: 7140dibdnow9c7btw3w4djhiyr2ecv22mw2c7hvy1rk1d\n",
      "Total tweets in df: (2000, 5)\n",
      "Fetching tweeks for 7140dibdnow9c7btw3w4djhiyr2ecv22mw2c7hvy1rk1d...\n",
      "Response code:  200\n",
      "\tReturned 2100 results and next token: 7140dibdnow9c7btw3w4df6klfgrbpxckx8lz3i69hzxt\n",
      "Total tweets in df: (2100, 5)\n",
      "Fetching tweeks for 7140dibdnow9c7btw3w4df6klfgrbpxckx8lz3i69hzxt...\n",
      "Response code:  200\n",
      "\tReturned 2200 results and next token: 7140dibdnow9c7btw3w4d8sp8g95t2r8s4734rw7htw6u\n",
      "Total tweets in df: (2200, 5)\n",
      "Fetching tweeks for 7140dibdnow9c7btw3w4d8sp8g95t2r8s4734rw7htw6u...\n",
      "Response code:  200\n",
      "\tReturned 2300 results and next token: 7140dibdnow9c7btw3w4d2g0p26zkol9ma3vortzs9auq\n",
      "Total tweets in df: (2300, 5)\n",
      "Fetching tweeks for 7140dibdnow9c7btw3w4d2g0p26zkol9ma3vortzs9auq...\n",
      "Response code:  200\n",
      "\tReturned 2400 results and next token: 7140dibdnow9c7btw3w3ybq9j3w687elpw0b3kriyykae\n",
      "Total tweets in df: (2400, 5)\n",
      "Fetching tweeks for 7140dibdnow9c7btw3w3ybq9j3w687elpw0b3kriyykae...\n",
      "Response code:  200\n",
      "\tReturned 2500 results and next token: 7140dibdnow9c7btw3w3y7gi9yymlggtwqs1hhrev6rlk\n",
      "Total tweets in df: (2500, 5)\n",
      "Fetching tweeks for 7140dibdnow9c7btw3w3y7gi9yymlggtwqs1hhrev6rlk...\n",
      "Response code:  200\n",
      "\tReturned 2600 results and next token: 7140dibdnow9c7btw3w3y37ye359fxrd7iddpeplwc1mg\n",
      "Total tweets in df: (2600, 5)\n",
      "Fetching tweeks for 7140dibdnow9c7btw3w3y37ye359fxrd7iddpeplwc1mg...\n",
      "Response code:  200\n",
      "\tReturned 2700 results and next token: 7140dibdnow9c7btw3w3xwtrtk1bhtjp3h0jac4cb0iep\n",
      "Total tweets in df: (2700, 5)\n",
      "Fetching tweeks for 7140dibdnow9c7btw3w3xwtrtk1bhtjp3h0jac4cb0iep...\n",
      "Response code:  200\n",
      "\tReturned 2800 results and next token: 7140dibdnow9c7btw3w3j89n65ox19tisgcb7rye8ljxt\n",
      "Total tweets in df: (2800, 5)\n",
      "Fetching tweeks for 7140dibdnow9c7btw3w3j89n65ox19tisgcb7rye8ljxt...\n",
      "Response code:  200\n",
      "\tReturned 2900 results and next token: 7140dibdnow9c7btw3w3j1w27yvvmwu6gmxgy8a7lb31x\n",
      "Total tweets in df: (2900, 5)\n",
      "Fetching tweeks for 7140dibdnow9c7btw3w3j1w27yvvmwu6gmxgy8a7lb31x...\n",
      "Response code:  200\n",
      "\tReturned 3000 results and next token: 7140dibdnow9c7btw3w3ixktecw4r4ytualpiuolgm2b9\n",
      "Total tweets in df: (3000, 5)\n",
      "Fetching tweeks for 7140dibdnow9c7btw3w3ixktecw4r4ytualpiuolgm2b9...\n",
      "Response code:  200\n",
      "\tReturned 3100 results and next token: 7140dibdnow9c7btw3w3ir6bwtosj9f61wpfzqcztvak8\n",
      "Total tweets in df: (3100, 5)\n",
      "Fetching tweeks for 7140dibdnow9c7btw3w3ir6bwtosj9f61wpfzqcztvak8...\n",
      "Response code:  200\n",
      "\tReturned 3200 results and next token: 7140dibdnow9c7btw3w340hs2n5rsf1m44no52dkq11di\n",
      "Total tweets in df: (3200, 5)\n",
      "Fetching tweeks for 7140dibdnow9c7btw3w340hs2n5rsf1m44no52dkq11di...\n",
      "Response code:  200\n",
      "\tReturned 3250 results and next token: \n",
      "Total tweets in df: (3250, 5)\n",
      "<class 'pandas.core.frame.DataFrame'>\n",
      "RangeIndex: 3250 entries, 0 to 3249\n",
      "Data columns (total 5 columns):\n",
      " #   Column               Non-Null Count  Dtype \n",
      "---  ------               --------------  ----- \n",
      " 0   created_at           3250 non-null   object\n",
      " 1   id                   3250 non-null   object\n",
      " 2   author_id            3250 non-null   object\n",
      " 3   text                 3250 non-null   object\n",
      " 4   in_reply_to_user_id  226 non-null    object\n",
      "dtypes: object(5)\n",
      "memory usage: 127.1+ KB\n"
     ]
    }
   ],
   "source": [
    "tweets_df = get_all_tweets(user_id=TWIT_ID)\n",
    "tweets_df.info()"
   ]
  },
  {
   "cell_type": "code",
   "execution_count": 101,
   "id": "c8034ffb",
   "metadata": {},
   "outputs": [
    {
     "data": {
      "text/plain": [
       "False    3019\n",
       "True      231\n",
       "Name: dispatch, dtype: int64"
      ]
     },
     "execution_count": 101,
     "metadata": {},
     "output_type": "execute_result"
    }
   ],
   "source": [
    "# apply regex to find dispatch tweets\n",
    "REGEX = 'responded to \\d+ calls on \\D+\\d+\\w+.\\D+\\d+ critical and \\d+ non-critical EMS'\n",
    "regex = re.compile(REGEX)\n",
    "tweets_df['dispatch'] = tweets_df.text.apply(\n",
    "    lambda x: True if regex.search(x) else False\n",
    ")\n",
    "tweets_df.dispatch.value_counts()"
   ]
  },
  {
   "cell_type": "code",
   "execution_count": 107,
   "id": "9b784a22",
   "metadata": {},
   "outputs": [
    {
     "data": {
      "text/plain": [
       "True    231\n",
       "Name: dispatch, dtype: int64"
      ]
     },
     "execution_count": 107,
     "metadata": {},
     "output_type": "execute_result"
    }
   ],
   "source": [
    "# get dataframe of only dispatch tweets\n",
    "dispatch_df = tweets_df.loc[tweets_df.dispatch, :].reset_index()\n",
    "dispatch_df.drop(columns='index', inplace=True)\n",
    "dispatch_df.dispatch.value_counts()"
   ]
  },
  {
   "cell_type": "code",
   "execution_count": 115,
   "id": "faf1d3b0",
   "metadata": {},
   "outputs": [],
   "source": [
    "# save to file with most recent dispatch tweet as timestamp\n",
    "time_stamp = dispatch_df.created_at[0][:10].replace('-', '')\n",
    "dispatch_df.to_csv(f'dispatch_tweets_{time_stamp}.csv', index=False)"
   ]
  },
  {
   "cell_type": "code",
   "execution_count": null,
   "id": "c6622249",
   "metadata": {},
   "outputs": [],
   "source": []
  }
 ],
 "metadata": {
  "kernelspec": {
   "display_name": "Python 3 (ipykernel)",
   "language": "python",
   "name": "python3"
  },
  "language_info": {
   "codemirror_mode": {
    "name": "ipython",
    "version": 3
   },
   "file_extension": ".py",
   "mimetype": "text/x-python",
   "name": "python",
   "nbconvert_exporter": "python",
   "pygments_lexer": "ipython3",
   "version": "3.9.6"
  }
 },
 "nbformat": 4,
 "nbformat_minor": 5
}
